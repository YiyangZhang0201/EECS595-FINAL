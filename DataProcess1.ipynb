{
 "cells": [
  {
   "cell_type": "markdown",
   "id": "6efa1102-37f4-415d-abe5-ab043d7f7cc8",
   "metadata": {},
   "source": [
    "## This is the notebook of DataProcessing"
   ]
  },
  {
   "cell_type": "code",
   "execution_count": 2,
   "id": "ca3e63a9-2136-414a-910c-12506f42d8ab",
   "metadata": {},
   "outputs": [],
   "source": [
    "import numpy as np\n",
    "import pandas as pd\n",
    "import matplotlib.pyplot as plt\n",
    "from tqdm import tqdm"
   ]
  },
  {
   "cell_type": "code",
   "execution_count": 3,
   "id": "ccc25e41-0124-4edd-aea8-3c831ed1f6b8",
   "metadata": {},
   "outputs": [],
   "source": [
    "Stock_list = [\"600000\", \"600009\", \"600016\", \"600028\", \"600030\", \"600031\",\n",
    "              \"600036\", \"600048\", \"600050\", \"600104\", \"600196\", \"600276\",\n",
    "              \"600309\", \"600438\", \"600519\", \"600547\", \"600570\", \"600585\",\n",
    "              \"600588\", \"600690\", \"600703\", \"600745\", \"600809\", \"600837\",\n",
    "              \"600887\", \"600893\", \"600918\", \"601012\", \"601066\", \"601088\",\n",
    "              \"601138\", \"601166\", \"601211\", \"601288\", \"601318\", \"601336\",\n",
    "              \"601398\", \"601601\", \"601628\", \"601668\", \"601688\", \"601818\",\n",
    "              \"601857\", \"601888\", \"601899\", \"601995\", \"603259\", \"603288\",\n",
    "              \"603501\", \"603986\"]"
   ]
  },
  {
   "cell_type": "markdown",
   "id": "24b2b7dc-451d-46cb-ac44-8744aadc1e82",
   "metadata": {},
   "source": [
    "First, we need to get the time interval of each stock, since different stock has different time interval over the last 300 news. And the time interval that duplicated by all the stocks will be the time interval we choose to build the dataset."
   ]
  },
  {
   "cell_type": "code",
   "execution_count": 4,
   "id": "585a0bba-b965-4f1f-9f0f-70d77cf1896a",
   "metadata": {},
   "outputs": [],
   "source": [
    "def interval_getter(stock):\n",
    "    data = pd.read_csv(f\"dataset/{stock}NLPChinese.csv\")\n",
    "    start_day = data[\"Time\"].iloc[-1]\n",
    "    end_day = data[\"Time\"].iloc[0]\n",
    "    return start_day, end_day"
   ]
  },
  {
   "cell_type": "markdown",
   "id": "674aa47a-80de-4229-b710-5ab5798ffd2f",
   "metadata": {},
   "source": [
    "From here, we can see that the stocks time-interval starting times variance very differently. To make sure the data's length is enough, we need to delete some stocks that time interval is really short."
   ]
  },
  {
   "cell_type": "code",
   "execution_count": 5,
   "id": "2ff098b5-f96d-41b6-94fe-cf1e0dcfe7a6",
   "metadata": {},
   "outputs": [
    {
     "name": "stderr",
     "output_type": "stream",
     "text": [
      " 42%|████▏     | 21/50 [00:00<00:00, 103.90it/s]"
     ]
    },
    {
     "name": "stdout",
     "output_type": "stream",
     "text": [
      "600028 need to be deleted.\n",
      "600030 need to be deleted.\n",
      "600050 need to be deleted.\n",
      "600104 need to be deleted.\n",
      "600196 need to be deleted.\n",
      "600276 need to be deleted.\n",
      "600438 need to be deleted.\n",
      "600519 need to be deleted.\n",
      "600837 need to be deleted.\n"
     ]
    },
    {
     "name": "stderr",
     "output_type": "stream",
     "text": [
      "100%|██████████| 50/50 [00:00<00:00, 106.92it/s]"
     ]
    },
    {
     "name": "stdout",
     "output_type": "stream",
     "text": [
      "600918 need to be deleted.\n",
      "601012 need to be deleted.\n",
      "601066 need to be deleted.\n",
      "601166 need to be deleted.\n",
      "601211 need to be deleted.\n",
      "601318 need to be deleted.\n",
      "601628 need to be deleted.\n",
      "601668 need to be deleted.\n",
      "601899 need to be deleted.\n",
      "601995 need to be deleted.\n"
     ]
    },
    {
     "name": "stderr",
     "output_type": "stream",
     "text": [
      "\n"
     ]
    }
   ],
   "source": [
    "drop_list = []\n",
    "for stock in tqdm(Stock_list):\n",
    "    begin_d, end_d = interval_getter(stock)\n",
    "    if begin_d > \"2020-01-01\":\n",
    "        print(f\"{stock} need to be deleted.\")\n",
    "        drop_list.append(stock)"
   ]
  },
  {
   "cell_type": "code",
   "execution_count": 6,
   "id": "012f75df-aebd-45cf-b7e9-d2f743b98043",
   "metadata": {},
   "outputs": [
    {
     "name": "stderr",
     "output_type": "stream",
     "text": [
      "100%|██████████| 50/50 [00:00<?, ?it/s]\n"
     ]
    }
   ],
   "source": [
    "final_stock_list = []\n",
    "for stock in tqdm(Stock_list):\n",
    "    if stock in drop_list:\n",
    "        pass\n",
    "    else:\n",
    "        final_stock_list.append(stock)"
   ]
  },
  {
   "cell_type": "code",
   "execution_count": 7,
   "id": "1c217652-ef55-4fa7-9486-d7aabbc9d621",
   "metadata": {},
   "outputs": [
    {
     "data": {
      "text/plain": [
       "31"
      ]
     },
     "execution_count": 7,
     "metadata": {},
     "output_type": "execute_result"
    }
   ],
   "source": [
    "len(final_stock_list)"
   ]
  },
  {
   "cell_type": "code",
   "execution_count": 71,
   "id": "bed42ae5-0ff6-484e-a443-5217d6e7ef16",
   "metadata": {},
   "outputs": [
    {
     "name": "stderr",
     "output_type": "stream",
     "text": [
      "100%|██████████| 31/31 [00:00<00:00, 550.38it/s]"
     ]
    },
    {
     "name": "stdout",
     "output_type": "stream",
     "text": [
      "2019-12-18 2021-12-01\n"
     ]
    },
    {
     "name": "stderr",
     "output_type": "stream",
     "text": [
      "\n"
     ]
    }
   ],
   "source": [
    "begin_day_list = []\n",
    "end_day_list = []\n",
    "for stock in tqdm(final_stock_list):\n",
    "    begin_d, end_d = interval_getter(stock)\n",
    "    begin_day_list.append(begin_d)\n",
    "    end_day_list.append(end_d)\n",
    "interval_start = max(begin_day_list)\n",
    "# we still use the latest date as the end of the interval\n",
    "interval_end = max(end_day_list)\n",
    "print(interval_start, interval_end)"
   ]
  },
  {
   "cell_type": "markdown",
   "id": "d6407cbd-29a5-4272-821a-f0d6f183bcf7",
   "metadata": {},
   "source": [
    "So, the interval is 2019-12-18 to 2021-12-01"
   ]
  },
  {
   "cell_type": "markdown",
   "id": "b61a33e8-b300-425f-a725-5205c4e9622e",
   "metadata": {},
   "source": [
    "The training set is 2019-12-18 to 2021-2-28. (14 months)\n",
    "\n",
    "The validation set is 2021-3-1 to 2021-5-31. (3 months)\n",
    "\n",
    "The testing set is 2021-6-1 to 2021-12-1. (6 months)"
   ]
  },
  {
   "cell_type": "code",
   "execution_count": 94,
   "id": "281f4360-9307-4927-83d0-6405b4696c6b",
   "metadata": {},
   "outputs": [
    {
     "name": "stderr",
     "output_type": "stream",
     "text": [
      "100%|██████████| 31/31 [00:00<00:00, 167.93it/s]\n"
     ]
    }
   ],
   "source": [
    "for stock in tqdm(final_stock_list):\n",
    "    data = pd.read_csv(f\"dataset/{stock}NLPChinese.csv\")\n",
    "    data_train = data[(data[\"Time\"]>=\"2019-12-18\") & (data[\"Time\"]<=\"2021-02-28\")].reset_index(drop=True)\n",
    "    data_train = data_train.reindex(index=data_train.index[::-1]).reset_index(drop=True)\n",
    "    data_valid = data[(data[\"Time\"]>=\"2021-03-01\") & (data[\"Time\"]<=\"2021-05-31\")].reset_index(drop=True)\n",
    "    data_valid = data_valid.reindex(index=data_valid.index[::-1]).reset_index(drop=True)\n",
    "    data_test = data[(data[\"Time\"]>=\"2021-06-01\") & (data[\"Time\"]<=\"2021-12-1\")].reset_index(drop=True)\n",
    "    data_test = data_test.reindex(index=data_test.index[::-1]).reset_index(drop=True)\n",
    "    data_train.to_csv(f\"data_cleaned/Train/{stock}NLP_Train_cleaned.csv\", index=False, encoding=\"utf_8_sig\")\n",
    "    data_test.to_csv(f\"data_cleaned/Test/{stock}NLP_Test_cleaned.csv\", index=False, encoding=\"utf_8_sig\")\n",
    "    data_valid.to_csv(f\"data_cleaned/Valid/{stock}NLP_Valid_cleaned.csv\", index=False, encoding=\"utf_8_sig\")"
   ]
  },
  {
   "cell_type": "code",
   "execution_count": 97,
   "id": "4b7f7db9-157a-40f1-84e8-5bd5bc3e0af8",
   "metadata": {},
   "outputs": [
    {
     "name": "stderr",
     "output_type": "stream",
     "text": [
      "100%|██████████| 31/31 [00:00<00:00, 765.07it/s]\n"
     ]
    },
    {
     "data": {
      "text/plain": [
       "4045"
      ]
     },
     "execution_count": 97,
     "metadata": {},
     "output_type": "execute_result"
    }
   ],
   "source": [
    "train_num = 0\n",
    "for stock in tqdm(final_stock_list):\n",
    "    data = pd.read_csv(f\"data_cleaned/Train/{stock}NLP_Train_cleaned.csv\")\n",
    "    train_num += (len(data))\n",
    "train_num"
   ]
  },
  {
   "cell_type": "code",
   "execution_count": 100,
   "id": "95376507-fa9d-4cb4-8e30-34534b43da79",
   "metadata": {},
   "outputs": [
    {
     "name": "stderr",
     "output_type": "stream",
     "text": [
      "100%|██████████| 31/31 [00:00<00:00, 132.35it/s]\n"
     ]
    },
    {
     "data": {
      "text/plain": [
       "982"
      ]
     },
     "execution_count": 100,
     "metadata": {},
     "output_type": "execute_result"
    }
   ],
   "source": [
    "valid_num = 0\n",
    "for stock in tqdm(final_stock_list):\n",
    "    data = pd.read_csv(f\"data_cleaned/Valid/{stock}NLP_Valid_cleaned.csv\")\n",
    "    valid_num += (len(data))\n",
    "valid_num"
   ]
  },
  {
   "cell_type": "code",
   "execution_count": 101,
   "id": "07eb7dcf-eb4a-4985-acb2-ae1b9c382a65",
   "metadata": {},
   "outputs": [
    {
     "name": "stderr",
     "output_type": "stream",
     "text": [
      "100%|██████████| 31/31 [00:00<00:00, 151.89it/s]\n"
     ]
    },
    {
     "data": {
      "text/plain": [
       "1474"
      ]
     },
     "execution_count": 101,
     "metadata": {},
     "output_type": "execute_result"
    }
   ],
   "source": [
    "test_num = 0\n",
    "for stock in tqdm(final_stock_list):\n",
    "    data = pd.read_csv(f\"data_cleaned/Test/{stock}NLP_Test_cleaned.csv\")\n",
    "    test_num += (len(data))\n",
    "test_num"
   ]
  },
  {
   "cell_type": "code",
   "execution_count": 8,
   "id": "3ccff5bc-ca4e-4b31-a6a8-be93a695487f",
   "metadata": {},
   "outputs": [
    {
     "data": {
      "text/plain": [
       "['600000',\n",
       " '600009',\n",
       " '600016',\n",
       " '600031',\n",
       " '600036',\n",
       " '600048',\n",
       " '600309',\n",
       " '600547',\n",
       " '600570',\n",
       " '600585',\n",
       " '600588',\n",
       " '600690',\n",
       " '600703',\n",
       " '600745',\n",
       " '600809',\n",
       " '600887',\n",
       " '600893',\n",
       " '601088',\n",
       " '601138',\n",
       " '601288',\n",
       " '601336',\n",
       " '601398',\n",
       " '601601',\n",
       " '601688',\n",
       " '601818',\n",
       " '601857',\n",
       " '601888',\n",
       " '603259',\n",
       " '603288',\n",
       " '603501',\n",
       " '603986']"
      ]
     },
     "execution_count": 8,
     "metadata": {},
     "output_type": "execute_result"
    }
   ],
   "source": [
    "final_stock_list"
   ]
  },
  {
   "cell_type": "code",
   "execution_count": null,
   "id": "20220e21-748c-4799-b557-e5eec4527a10",
   "metadata": {},
   "outputs": [],
   "source": []
  }
 ],
 "metadata": {
  "kernelspec": {
   "display_name": "Python 3",
   "language": "python",
   "name": "python3"
  },
  "language_info": {
   "codemirror_mode": {
    "name": "ipython",
    "version": 3
   },
   "file_extension": ".py",
   "mimetype": "text/x-python",
   "name": "python",
   "nbconvert_exporter": "python",
   "pygments_lexer": "ipython3",
   "version": "3.8.8"
  }
 },
 "nbformat": 4,
 "nbformat_minor": 5
}
